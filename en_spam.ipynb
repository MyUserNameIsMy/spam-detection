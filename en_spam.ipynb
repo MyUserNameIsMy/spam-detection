{
 "cells": [
  {
   "cell_type": "code",
   "execution_count": 23,
   "id": "initial_id",
   "metadata": {
    "collapsed": true,
    "ExecuteTime": {
     "end_time": "2024-07-22T16:33:46.524640600Z",
     "start_time": "2024-07-22T16:33:40.080648200Z"
    }
   },
   "outputs": [
    {
     "name": "stdout",
     "output_type": "stream",
     "text": [
      "0        Supply Quality China's EXCLUSIVE dimensions at...\n",
      "1                               over. SidLet me know. Thx.\n",
      "2        Dear Friend,Greetings to you.I wish to accost ...\n",
      "3        MR. CHEUNG PUIHANG SENG BANK LTD.DES VOEUX RD....\n",
      "4                Not a surprising assessment from Embassy.\n",
      "                               ...                        \n",
      "11924    Travel well. I'll look forward to hearing your...\n",
      "11925    Dear friend, I wish to begin by way of introdu...\n",
      "11926    Follow Up Flag: Follow upFlag Status: FlaggedM...\n",
      "11927    sbwhoeop B6Saturday January 23 2010 4:09 PMRe:...\n",
      "11928    FYI. We are revising call sheet for call to Ka...\n",
      "Name: Text, Length: 11929, dtype: object\n",
      "Training Accuracy: 0.98920674840197\n",
      "Testing Accuracy: 0.9803017602682313\n",
      "Classification Report on Training Data:\n",
      "               precision    recall  f1-score   support\n",
      "\n",
      "           0       0.98      1.00      0.99      5408\n",
      "           1       1.00      0.98      0.99      4135\n",
      "\n",
      "    accuracy                           0.99      9543\n",
      "   macro avg       0.99      0.99      0.99      9543\n",
      "weighted avg       0.99      0.99      0.99      9543\n",
      "\n",
      "Classification Report on Testing Data:\n",
      "               precision    recall  f1-score   support\n",
      "\n",
      "           0       0.97      0.99      0.98      1334\n",
      "           1       0.99      0.96      0.98      1052\n",
      "\n",
      "    accuracy                           0.98      2386\n",
      "   macro avg       0.98      0.98      0.98      2386\n",
      "weighted avg       0.98      0.98      0.98      2386\n",
      "\n",
      "Model and vectorizer saved successfully.\n"
     ]
    }
   ],
   "source": [
    "import joblib\n",
    "import re\n",
    "import pandas as pd\n",
    "from sklearn.model_selection import train_test_split\n",
    "from sklearn.feature_extraction.text import TfidfVectorizer\n",
    "from sklearn.ensemble import RandomForestClassifier\n",
    "from sklearn.metrics import accuracy_score, classification_report\n",
    "\n",
    "#Load the dataset\n",
    "df = pd.read_csv('en_spam_data.csv')\n",
    "\n",
    "#Data preprocessing\n",
    "def clean_text(text):\n",
    "    text = str(text).lower()\n",
    "    text = re.sub(r'\\b\\w{1,2}\\b', '', text)\n",
    "    text = re.sub(r'\\s+', ' ', text).strip()\n",
    "    return text\n",
    "\n",
    "df['Text'] = df['Text'].apply(clean_text)\n",
    "\n",
    "# Feature extraction using TF-IDF\n",
    "vectorizer = TfidfVectorizer(stop_words=\"english\", max_features=1500)\n",
    "X = vectorizer.fit_transform(df['Text'])\n",
    "\n",
    "# Train-test split 20% test\n",
    "X_train, X_test, y_train, y_test = train_test_split(X, df['Class'], test_size=0.2, random_state=42)\n",
    "\n",
    "# Model training using Random Forest\n",
    "model = RandomForestClassifier(n_estimators=100, random_state=42)\n",
    "model.fit(X_train, y_train)\n",
    "\n",
    "# Model evaluation\n",
    "y_pred_train = model.predict(X_train)\n",
    "y_pred_test = model.predict(X_test)\n",
    "\n",
    "print(\"Training Accuracy:\", accuracy_score(y_train, y_pred_train))\n",
    "print(\"Testing Accuracy:\", accuracy_score(y_test, y_pred_test))\n",
    "\n",
    "print(\"Classification Report on Training Data:\\n\", classification_report(y_train, y_pred_train))\n",
    "\n",
    "print(\"Classification Report on Testing Data:\\n\", classification_report(y_test, y_pred_test))\n",
    "\n",
    "# Save the model and vectorizer for later use\n",
    "joblib.dump(model, 'english_spam_classifier_rf_model.pkl')\n",
    "joblib.dump(vectorizer, 'english_tfidf_vectorizer.pkl')\n",
    "print(\"Model and vectorizer saved successfully.\")"
   ]
  },
  {
   "cell_type": "code",
   "execution_count": 24,
   "outputs": [
    {
     "name": "stdout",
     "output_type": "stream",
     "text": [
      "The email is: Spam\n"
     ]
    }
   ],
   "source": [
    "import joblib\n",
    "\n",
    "# Load the model and vectorizer\n",
    "model = joblib.load('english_spam_classifier_rf_model.pkl')\n",
    "vectorizer = joblib.load('english_tfidf_vectorizer.pkl')\n",
    "\n",
    "def predict_spam(email_text):\n",
    "    email_features = vectorizer.transform([email_text])\n",
    "    prediction = model.predict(email_features)\n",
    "    if prediction[0] == 1:\n",
    "        return \"Spam\"\n",
    "    else:\n",
    "        return \"Not Spam\"\n",
    "\n",
    "input_text = \"\"\"THIS IS AN OFFICIAL NOTIFICATION OF FUNDS DEPOSITED I WANT TO PUT 1500 bucks to your account\"\"\"\n",
    "\n",
    "result = predict_spam(input_text)\n",
    "print(f\"The email is: {result}\")"
   ],
   "metadata": {
    "collapsed": false,
    "ExecuteTime": {
     "end_time": "2024-07-22T16:36:55.154939100Z",
     "start_time": "2024-07-22T16:36:55.080095500Z"
    }
   },
   "id": "ac1fddedbf15ccba"
  },
  {
   "cell_type": "code",
   "execution_count": null,
   "outputs": [],
   "source": [],
   "metadata": {
    "collapsed": false
   },
   "id": "e7db4e0cbc0e77f5"
  }
 ],
 "metadata": {
  "kernelspec": {
   "display_name": "Python 3",
   "language": "python",
   "name": "python3"
  },
  "language_info": {
   "codemirror_mode": {
    "name": "ipython",
    "version": 2
   },
   "file_extension": ".py",
   "mimetype": "text/x-python",
   "name": "python",
   "nbconvert_exporter": "python",
   "pygments_lexer": "ipython2",
   "version": "2.7.6"
  }
 },
 "nbformat": 4,
 "nbformat_minor": 5
}
