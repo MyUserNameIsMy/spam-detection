{
 "cells": [
  {
   "cell_type": "code",
   "execution_count": 1,
   "id": "initial_id",
   "metadata": {
    "collapsed": true,
    "ExecuteTime": {
     "end_time": "2024-07-22T15:44:14.567967500Z",
     "start_time": "2024-07-22T15:44:07.407147700Z"
    }
   },
   "outputs": [
    {
     "name": "stdout",
     "output_type": "stream",
     "text": [
      "Training Accuracy: 1.0\n",
      "Testing Accuracy: 0.875\n",
      "Classification Report on Training Data:\n",
      "               precision    recall  f1-score   support\n",
      "\n",
      "           0       1.00      1.00      1.00        19\n",
      "           1       1.00      1.00      1.00        45\n",
      "\n",
      "    accuracy                           1.00        64\n",
      "   macro avg       1.00      1.00      1.00        64\n",
      "weighted avg       1.00      1.00      1.00        64\n",
      "\n",
      "Classification Report on Testing Data:\n",
      "               precision    recall  f1-score   support\n",
      "\n",
      "           0       1.00      0.67      0.80         6\n",
      "           1       0.83      1.00      0.91        10\n",
      "\n",
      "    accuracy                           0.88        16\n",
      "   macro avg       0.92      0.83      0.85        16\n",
      "weighted avg       0.90      0.88      0.87        16\n",
      "\n",
      "Model and vectorizer saved successfully.\n"
     ]
    }
   ],
   "source": [
    "import joblib\n",
    "import re\n",
    "import pandas as pd\n",
    "from sklearn.model_selection import train_test_split\n",
    "from sklearn.feature_extraction.text import TfidfVectorizer\n",
    "from sklearn.ensemble import RandomForestClassifier\n",
    "from sklearn.metrics import accuracy_score, classification_report\n",
    "\n",
    "#Load the dataset\n",
    "df = pd.read_csv('email_data.csv')\n",
    "\n",
    "#Data preprocessing\n",
    "def clean_text(text):\n",
    "    text = text.lower()\n",
    "    text = re.sub(r'\\b\\w{1,2}\\b', '', text)\n",
    "    text = re.sub(r'\\s+', ' ', text).strip()\n",
    "    return text\n",
    "\n",
    "df['text'] = df['text'].apply(clean_text)\n",
    "\n",
    "kazakh_stop_words = [\n",
    "    'және', 'мен', 'де', 'да', 'бір', 'бар', 'болды', 'қалай', 'не', 'қандай',\n",
    "    'еді', 'үшін', 'арқылы', 'менің', 'олардың', 'бұл', 'мұнда', 'онда',\n",
    "    'сондықтан', 'ал', 'бірақ', 'сол', 'біз', 'сіз', 'ол', 'болу', 'еді', 'тағы',\n",
    "    'осы', 'олар', 'бұл', 'ма', 'міне', 'менен', 'сізден', 'маған', 'сізге',\n",
    "    'менің', 'сіздің', 'олардың', 'біздің', 'бізге', 'сіздерді', 'өз', 'өзі',\n",
    "    'өзім', 'өзің', 'өзінің', 'өзіне', 'өздерің', 'өздеріне', 'өздеріміз',\n",
    "    'өздеріңіздің', 'болады', 'болмайды', 'қазіргі', 'кейін', 'дейін', 'бұл',\n",
    "    'осы', 'сол', 'онда', 'ондаған', 'мұнда', 'қазір', 'бірақ', 'сондықтан',\n",
    "    'бәлкім', 'қажет', 'қандайда', 'бірде', 'қандай', 'жоқ', 'иә', 'жоқ', 'тек',\n",
    "    'ғана', 'дегенмен', 'тағыда', 'болса', 'сіз', 'сіздер', 'олар', 'өзіміз',\n",
    "    'өздеріңе', 'өзіңе', 'өздерін', 'бізбен', 'бізде', 'сіздерге', 'сіздермен',\n",
    "    'сендер', 'оларға', 'олармен', 'мен', 'менімен', 'менде', 'мені', 'маған',\n",
    "    'сіздермен', 'сіздерге', 'сіздерді', 'сіздерден', 'сіздермен', 'олармен',\n",
    "    'оларға', 'олармен', 'оларды', 'олардың', 'олармен', 'олардан', 'оларға',\n",
    "    'менде', 'мені', 'маған', 'бізбен', 'бізге', 'бізден', 'бізді', 'олармен',\n",
    "    'оларды', 'олардан', 'оларға', 'олармен'\n",
    "]\n",
    "\n",
    "# Feature extraction using TF-IDF\n",
    "vectorizer = TfidfVectorizer(stop_words=kazakh_stop_words, max_features=150)\n",
    "X = vectorizer.fit_transform(df['text'])\n",
    "\n",
    "# Train-test split 20% test\n",
    "X_train, X_test, y_train, y_test = train_test_split(X, df['label'], test_size=0.2, random_state=42)\n",
    "\n",
    "# Model training using Random Forest\n",
    "model = RandomForestClassifier(n_estimators=100, random_state=42)\n",
    "model.fit(X_train, y_train)\n",
    "\n",
    "# Model evaluation\n",
    "y_pred_train = model.predict(X_train)\n",
    "y_pred_test = model.predict(X_test)\n",
    "\n",
    "print(\"Training Accuracy:\", accuracy_score(y_train, y_pred_train))\n",
    "print(\"Testing Accuracy:\", accuracy_score(y_test, y_pred_test))\n",
    "\n",
    "print(\"Classification Report on Training Data:\\n\", classification_report(y_train, y_pred_train))\n",
    "\n",
    "print(\"Classification Report on Testing Data:\\n\", classification_report(y_test, y_pred_test))\n",
    "\n",
    "# Save the model and vectorizer for later use\n",
    "joblib.dump(model, 'kazakh_spam_classifier_rf_model.pkl')\n",
    "joblib.dump(vectorizer, 'kazakh_tfidf_vectorizer.pkl')\n",
    "print(\"Model and vectorizer saved successfully.\")"
   ]
  },
  {
   "cell_type": "code",
   "execution_count": 2,
   "outputs": [
    {
     "name": "stdout",
     "output_type": "stream",
     "text": [
      "The email is: Spam\n"
     ]
    }
   ],
   "source": [
    "import joblib\n",
    "\n",
    "# Load the model and vectorizer\n",
    "model = joblib.load('kazakh_spam_classifier_rf_model.pkl')\n",
    "vectorizer = joblib.load('kazakh_tfidf_vectorizer.pkl')\n",
    "\n",
    "def predict_spam(email_text):\n",
    "    email_features = vectorizer.transform([email_text])\n",
    "    prediction = model.predict(email_features)\n",
    "    if prediction[0] == 1:\n",
    "        return \"Spam\"\n",
    "    else:\n",
    "        return \"Not Spam\"\n",
    "\n",
    "input_text = \"\"\"Құрметті Қолданушы,\n",
    "\n",
    "Сіз біздің арнайы акциямыздың жеңімпазы атандыңыз! Біз сіздің электрондық поштаңызды кездейсоқ таңдап, сізге ерекше жүлде беруді шештік. Жүлде ретінде сізге $10,000 ақшалай сыйлық немесе жаңа iPhone 14 беріледі!\n",
    "\n",
    "Ұтысыңызды алу үшін, төмендегі сілтемеге өтіңіз және қажетті мәліметтерді енгізіңіз:\n",
    "[Сілтеме: Ұтысыңызды алу үшін осы жерді басыңыз]\n",
    "\n",
    "Жылдам әрекет етіңіз, себебі ұсыныс шектеулі мерзімге жарамды. Ұсыныс 24 сағат ішінде аяқталады.\n",
    "\n",
    "Ұтысыңызды растау үшін төмендегі мәліметтерді толтырыңыз:\n",
    "\n",
    "Атыңыз:\n",
    "ЖСН:\n",
    "Электрондық поштаңыз:\n",
    "Телефон нөміріңіз:\n",
    "Сілтеме арқылы тіркелгеннен кейін, біз сізбен хабарласамыз және жүлдеңізді қалай алуға болатынын түсіндіреміз. Егер сізде қандай да бір сұрақтар туындаса, бізге осы электрондық пошта арқылы жауап беріңіз.\n",
    "\n",
    "Сіздің ақпаратыңыз қауіпсіздікте және құпия түрде сақталады.\"\"\"\n",
    "\n",
    "result = predict_spam(input_text)\n",
    "print(f\"The email is: {result}\")"
   ],
   "metadata": {
    "collapsed": false,
    "ExecuteTime": {
     "end_time": "2024-07-22T15:44:20.937152300Z",
     "start_time": "2024-07-22T15:44:20.874879300Z"
    }
   },
   "id": "f5e5ecbf93f58178"
  },
  {
   "cell_type": "code",
   "execution_count": null,
   "outputs": [],
   "source": [],
   "metadata": {
    "collapsed": false
   },
   "id": "5539cba2d0a6425e"
  }
 ],
 "metadata": {
  "kernelspec": {
   "display_name": "Python 3",
   "language": "python",
   "name": "python3"
  },
  "language_info": {
   "codemirror_mode": {
    "name": "ipython",
    "version": 2
   },
   "file_extension": ".py",
   "mimetype": "text/x-python",
   "name": "python",
   "nbconvert_exporter": "python",
   "pygments_lexer": "ipython2",
   "version": "2.7.6"
  }
 },
 "nbformat": 4,
 "nbformat_minor": 5
}
