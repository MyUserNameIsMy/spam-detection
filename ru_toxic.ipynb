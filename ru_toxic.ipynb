{
 "cells": [
  {
   "cell_type": "code",
   "execution_count": 10,
   "id": "initial_id",
   "metadata": {
    "collapsed": true,
    "ExecuteTime": {
     "end_time": "2024-07-23T15:24:10.550701300Z",
     "start_time": "2024-07-23T15:24:02.806059Z"
    }
   },
   "outputs": [
    {
     "name": "stderr",
     "output_type": "stream",
     "text": [
      "[nltk_data] Downloading package stopwords to\n",
      "[nltk_data]     C:\\Users\\ilyas\\AppData\\Roaming\\nltk_data...\n",
      "[nltk_data]   Package stopwords is already up-to-date!\n"
     ]
    },
    {
     "name": "stdout",
     "output_type": "stream",
     "text": [
      "Training Accuracy: 0.8796079451817157\n",
      "Testing Accuracy: 0.7568505029483177\n",
      "Classification Report on Training Data:\n",
      "               precision    recall  f1-score   support\n",
      "\n",
      "         0.0       0.94      0.87      0.91      7642\n",
      "         1.0       0.78      0.89      0.83      3887\n",
      "\n",
      "    accuracy                           0.88     11529\n",
      "   macro avg       0.86      0.88      0.87     11529\n",
      "weighted avg       0.89      0.88      0.88     11529\n",
      "\n",
      "Classification Report on Testing Data:\n",
      "               precision    recall  f1-score   support\n",
      "\n",
      "         0.0       0.82      0.82      0.82      1944\n",
      "         1.0       0.63      0.63      0.63       939\n",
      "\n",
      "    accuracy                           0.76      2883\n",
      "   macro avg       0.72      0.72      0.72      2883\n",
      "weighted avg       0.76      0.76      0.76      2883\n",
      "\n",
      "Model and vectorizer saved successfully.\n"
     ]
    }
   ],
   "source": [
    "import nltk\n",
    "import joblib\n",
    "import re\n",
    "import pandas as pd\n",
    "from sklearn.model_selection import train_test_split\n",
    "from sklearn.feature_extraction.text import TfidfVectorizer\n",
    "from sklearn.ensemble import RandomForestClassifier\n",
    "from sklearn.metrics import accuracy_score, classification_report\n",
    "nltk.download('stopwords')\n",
    "from nltk.corpus import stopwords\n",
    "#Load the dataset\n",
    "df = pd.read_csv('ru_toxic.csv')\n",
    "\n",
    "#Data preprocessing\n",
    "def clean_text(text):\n",
    "    text = str(text).lower()\n",
    "    text = re.sub(r'\\b\\w{1,2}\\b', '', text)\n",
    "    text = re.sub(r'\\s+', ' ', text).strip()\n",
    "    return text\n",
    "\n",
    "df['comment'] = df['comment'].apply(clean_text)\n",
    "\n",
    "russian_stop_words = stopwords.words('russian')\n",
    "\n",
    "# Feature extraction using TF-IDF\n",
    "vectorizer = TfidfVectorizer(stop_words=russian_stop_words, max_features=500)\n",
    "X = vectorizer.fit_transform(df['comment'])\n",
    "\n",
    "# Train-test split 20% test\n",
    "X_train, X_test, y_train, y_test = train_test_split(X, df['toxic'], test_size=0.2, random_state=42)\n",
    "\n",
    "# Model training using Random Forest\n",
    "model = RandomForestClassifier(n_estimators=100, random_state=42)\n",
    "model.fit(X_train, y_train)\n",
    "\n",
    "# Model evaluation\n",
    "y_pred_train = model.predict(X_train)\n",
    "y_pred_test = model.predict(X_test)\n",
    "\n",
    "print(\"Training Accuracy:\", accuracy_score(y_train, y_pred_train))\n",
    "print(\"Testing Accuracy:\", accuracy_score(y_test, y_pred_test))\n",
    "\n",
    "print(\"Classification Report on Training Data:\\n\", classification_report(y_train, y_pred_train))\n",
    "\n",
    "print(\"Classification Report on Testing Data:\\n\", classification_report(y_test, y_pred_test))\n",
    "\n",
    "# Save the model and vectorizer for later use\n",
    "joblib.dump(model, 'russian_toxic_classifier_rf_model.pkl')\n",
    "joblib.dump(vectorizer, 'russian_tfidf_vectorizer.pkl')\n",
    "print(\"Model and vectorizer saved successfully.\")"
   ]
  },
  {
   "cell_type": "code",
   "execution_count": 12,
   "outputs": [
    {
     "name": "stdout",
     "output_type": "stream",
     "text": [
      "Model and vectorizer saved successfully.\n",
      "The email is: Toxic\n"
     ]
    }
   ],
   "source": [
    "print(\"Model and vectorizer saved successfully.\")\n",
    "import joblib\n",
    "\n",
    "# Load the model and vectorizer\n",
    "model = joblib.load('russian_toxic_classifier_rf_model.pkl')\n",
    "vectorizer = joblib.load('russian_tfidf_vectorizer.pkl')\n",
    "\n",
    "\n",
    "def predict_spam(email_text):\n",
    "    email_features = vectorizer.transform([email_text])\n",
    "    prediction = model.predict(email_features)\n",
    "    if prediction[0] == 1:\n",
    "        return \"Toxic\"\n",
    "    else:\n",
    "        return \"Not Toxic\"\n",
    "\n",
    "\n",
    "input_text = \"\"\"Ты хороший\"\"\"\n",
    "\n",
    "result = predict_spam(input_text)\n",
    "print(f\"The email is: {result}\")"
   ],
   "metadata": {
    "collapsed": false,
    "ExecuteTime": {
     "end_time": "2024-07-23T15:24:17.770558600Z",
     "start_time": "2024-07-23T15:24:17.686068Z"
    }
   },
   "id": "22d9f03fac66c1d5"
  },
  {
   "cell_type": "code",
   "execution_count": 9,
   "outputs": [],
   "source": [],
   "metadata": {
    "collapsed": false,
    "ExecuteTime": {
     "end_time": "2024-07-23T15:23:38.886580800Z",
     "start_time": "2024-07-23T15:23:38.875622200Z"
    }
   },
   "id": "e333a80537396589"
  },
  {
   "cell_type": "code",
   "execution_count": null,
   "outputs": [],
   "source": [],
   "metadata": {
    "collapsed": false
   },
   "id": "5f19dde087da0028"
  }
 ],
 "metadata": {
  "kernelspec": {
   "display_name": "Python 3",
   "language": "python",
   "name": "python3"
  },
  "language_info": {
   "codemirror_mode": {
    "name": "ipython",
    "version": 2
   },
   "file_extension": ".py",
   "mimetype": "text/x-python",
   "name": "python",
   "nbconvert_exporter": "python",
   "pygments_lexer": "ipython2",
   "version": "2.7.6"
  }
 },
 "nbformat": 4,
 "nbformat_minor": 5
}
